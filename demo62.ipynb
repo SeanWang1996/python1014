{
 "cells": [
  {
   "cell_type": "code",
   "execution_count": 4,
   "metadata": {},
   "outputs": [
    {
     "data": {
      "text/html": [
       "<div>\n",
       "<style scoped>\n",
       "    .dataframe tbody tr th:only-of-type {\n",
       "        vertical-align: middle;\n",
       "    }\n",
       "\n",
       "    .dataframe tbody tr th {\n",
       "        vertical-align: top;\n",
       "    }\n",
       "\n",
       "    .dataframe thead th {\n",
       "        text-align: right;\n",
       "    }\n",
       "</style>\n",
       "<table border=\"1\" class=\"dataframe\">\n",
       "  <thead>\n",
       "    <tr style=\"text-align: right;\">\n",
       "      <th></th>\n",
       "      <th>id</th>\n",
       "      <th>name</th>\n",
       "    </tr>\n",
       "  </thead>\n",
       "  <tbody>\n",
       "    <tr>\n",
       "      <th>10344</th>\n",
       "      <td>SE.PRM.TENR</td>\n",
       "      <td>Adjusted net enrollment rate, primary (% of pr...</td>\n",
       "    </tr>\n",
       "    <tr>\n",
       "      <th>10345</th>\n",
       "      <td>SE.PRM.TENR.FE</td>\n",
       "      <td>Adjusted net enrollment rate, primary, female ...</td>\n",
       "    </tr>\n",
       "    <tr>\n",
       "      <th>10346</th>\n",
       "      <td>SE.PRM.TENR.MA</td>\n",
       "      <td>Adjusted net enrollment rate, primary, male (%...</td>\n",
       "    </tr>\n",
       "  </tbody>\n",
       "</table>\n",
       "</div>"
      ],
      "text/plain": [
       "                   id                                               name\n",
       "10344     SE.PRM.TENR  Adjusted net enrollment rate, primary (% of pr...\n",
       "10345  SE.PRM.TENR.FE  Adjusted net enrollment rate, primary, female ...\n",
       "10346  SE.PRM.TENR.MA  Adjusted net enrollment rate, primary, male (%..."
      ]
     },
     "execution_count": 4,
     "metadata": {},
     "output_type": "execute_result"
    }
   ],
   "source": [
    "import pandas_datareader.wb as wb\n",
    "result = wb.search(string='SE.PRM.TENR', field='id')\n",
    "\n",
    "result.iloc[:,:2]"
   ]
  },
  {
   "cell_type": "code",
   "execution_count": 5,
   "metadata": {},
   "outputs": [
    {
     "data": {
      "text/html": [
       "<div>\n",
       "<style scoped>\n",
       "    .dataframe tbody tr th:only-of-type {\n",
       "        vertical-align: middle;\n",
       "    }\n",
       "\n",
       "    .dataframe tbody tr th {\n",
       "        vertical-align: top;\n",
       "    }\n",
       "\n",
       "    .dataframe thead th {\n",
       "        text-align: right;\n",
       "    }\n",
       "</style>\n",
       "<table border=\"1\" class=\"dataframe\">\n",
       "  <thead>\n",
       "    <tr style=\"text-align: right;\">\n",
       "      <th></th>\n",
       "      <th>id</th>\n",
       "      <th>name</th>\n",
       "      <th>unit</th>\n",
       "      <th>source</th>\n",
       "      <th>sourceNote</th>\n",
       "      <th>sourceOrganization</th>\n",
       "      <th>topics</th>\n",
       "    </tr>\n",
       "  </thead>\n",
       "  <tbody>\n",
       "    <tr>\n",
       "      <th>10344</th>\n",
       "      <td>SE.PRM.TENR</td>\n",
       "      <td>Adjusted net enrollment rate, primary (% of pr...</td>\n",
       "      <td></td>\n",
       "      <td>World Development Indicators</td>\n",
       "      <td>Adjusted net enrollment is the number of pupil...</td>\n",
       "      <td>b'UNESCO Institute for Statistics (http://uis....</td>\n",
       "      <td>Education</td>\n",
       "    </tr>\n",
       "    <tr>\n",
       "      <th>10345</th>\n",
       "      <td>SE.PRM.TENR.FE</td>\n",
       "      <td>Adjusted net enrollment rate, primary, female ...</td>\n",
       "      <td></td>\n",
       "      <td>World Development Indicators</td>\n",
       "      <td>Adjusted net enrollment is the number of pupil...</td>\n",
       "      <td>b'UNESCO Institute for Statistics (http://uis....</td>\n",
       "      <td>Education  ; Gender</td>\n",
       "    </tr>\n",
       "    <tr>\n",
       "      <th>10346</th>\n",
       "      <td>SE.PRM.TENR.MA</td>\n",
       "      <td>Adjusted net enrollment rate, primary, male (%...</td>\n",
       "      <td></td>\n",
       "      <td>World Development Indicators</td>\n",
       "      <td>Adjusted net enrollment is the number of pupil...</td>\n",
       "      <td>b'UNESCO Institute for Statistics (http://uis....</td>\n",
       "      <td>Education  ; Gender</td>\n",
       "    </tr>\n",
       "  </tbody>\n",
       "</table>\n",
       "</div>"
      ],
      "text/plain": [
       "                   id                                               name unit  \\\n",
       "10344     SE.PRM.TENR  Adjusted net enrollment rate, primary (% of pr...        \n",
       "10345  SE.PRM.TENR.FE  Adjusted net enrollment rate, primary, female ...        \n",
       "10346  SE.PRM.TENR.MA  Adjusted net enrollment rate, primary, male (%...        \n",
       "\n",
       "                             source  \\\n",
       "10344  World Development Indicators   \n",
       "10345  World Development Indicators   \n",
       "10346  World Development Indicators   \n",
       "\n",
       "                                              sourceNote  \\\n",
       "10344  Adjusted net enrollment is the number of pupil...   \n",
       "10345  Adjusted net enrollment is the number of pupil...   \n",
       "10346  Adjusted net enrollment is the number of pupil...   \n",
       "\n",
       "                                      sourceOrganization               topics  \n",
       "10344  b'UNESCO Institute for Statistics (http://uis....           Education   \n",
       "10345  b'UNESCO Institute for Statistics (http://uis....  Education  ; Gender  \n",
       "10346  b'UNESCO Institute for Statistics (http://uis....  Education  ; Gender  "
      ]
     },
     "execution_count": 5,
     "metadata": {},
     "output_type": "execute_result"
    }
   ],
   "source": [
    "import pandas_datareader.wb as wb\n",
    "result = wb.search(string='SE.PRM.TENR', field='id')\n",
    "result"
   ]
  },
  {
   "cell_type": "code",
   "execution_count": 9,
   "metadata": {},
   "outputs": [
    {
     "data": {
      "text/html": [
       "<div>\n",
       "<style scoped>\n",
       "    .dataframe tbody tr th:only-of-type {\n",
       "        vertical-align: middle;\n",
       "    }\n",
       "\n",
       "    .dataframe tbody tr th {\n",
       "        vertical-align: top;\n",
       "    }\n",
       "\n",
       "    .dataframe thead th {\n",
       "        text-align: right;\n",
       "    }\n",
       "</style>\n",
       "<table border=\"1\" class=\"dataframe\">\n",
       "  <thead>\n",
       "    <tr style=\"text-align: right;\">\n",
       "      <th></th>\n",
       "      <th>unit</th>\n",
       "      <th>source</th>\n",
       "      <th>sourceNote</th>\n",
       "      <th>sourceOrganization</th>\n",
       "      <th>topics</th>\n",
       "    </tr>\n",
       "  </thead>\n",
       "  <tbody>\n",
       "    <tr>\n",
       "      <th>10344</th>\n",
       "      <td></td>\n",
       "      <td>World Development Indicators</td>\n",
       "      <td>Adjusted net enrollment is the number of pupil...</td>\n",
       "      <td>b'UNESCO Institute for Statistics (http://uis....</td>\n",
       "      <td>Education</td>\n",
       "    </tr>\n",
       "  </tbody>\n",
       "</table>\n",
       "</div>"
      ],
      "text/plain": [
       "      unit                        source  \\\n",
       "10344       World Development Indicators   \n",
       "\n",
       "                                              sourceNote  \\\n",
       "10344  Adjusted net enrollment is the number of pupil...   \n",
       "\n",
       "                                      sourceOrganization      topics  \n",
       "10344  b'UNESCO Institute for Statistics (http://uis....  Education   "
      ]
     },
     "execution_count": 9,
     "metadata": {},
     "output_type": "execute_result"
    }
   ],
   "source": [
    "result.iloc[:1,2:]"
   ]
  },
  {
   "cell_type": "code",
   "execution_count": null,
   "metadata": {},
   "outputs": [],
   "source": []
  },
  {
   "cell_type": "code",
   "execution_count": 7,
   "metadata": {},
   "outputs": [
    {
     "data": {
      "text/plain": [
       "id                                            SE.PRM.TENR\n",
       "name    Adjusted net enrollment rate, primary (% of pr...\n",
       "Name: 10344, dtype: object"
      ]
     },
     "execution_count": 7,
     "metadata": {},
     "output_type": "execute_result"
    }
   ],
   "source": [
    "result.iloc[0,:2]"
   ]
  },
  {
   "cell_type": "code",
   "execution_count": 8,
   "metadata": {},
   "outputs": [
    {
     "data": {
      "text/plain": [
       "'Adjusted net enrollment rate, primary (% of primary school age children)'"
      ]
     },
     "execution_count": 8,
     "metadata": {},
     "output_type": "execute_result"
    }
   ],
   "source": [
    "result.iloc[0,1]"
   ]
  },
  {
   "cell_type": "code",
   "execution_count": 10,
   "metadata": {},
   "outputs": [
    {
     "data": {
      "text/html": [
       "<div>\n",
       "<style scoped>\n",
       "    .dataframe tbody tr th:only-of-type {\n",
       "        vertical-align: middle;\n",
       "    }\n",
       "\n",
       "    .dataframe tbody tr th {\n",
       "        vertical-align: top;\n",
       "    }\n",
       "\n",
       "    .dataframe thead th {\n",
       "        text-align: right;\n",
       "    }\n",
       "</style>\n",
       "<table border=\"1\" class=\"dataframe\">\n",
       "  <thead>\n",
       "    <tr style=\"text-align: right;\">\n",
       "      <th></th>\n",
       "      <th>name</th>\n",
       "      <th>source</th>\n",
       "    </tr>\n",
       "  </thead>\n",
       "  <tbody>\n",
       "    <tr>\n",
       "      <th>10344</th>\n",
       "      <td>Adjusted net enrollment rate, primary (% of pr...</td>\n",
       "      <td>World Development Indicators</td>\n",
       "    </tr>\n",
       "    <tr>\n",
       "      <th>10345</th>\n",
       "      <td>Adjusted net enrollment rate, primary, female ...</td>\n",
       "      <td>World Development Indicators</td>\n",
       "    </tr>\n",
       "    <tr>\n",
       "      <th>10346</th>\n",
       "      <td>Adjusted net enrollment rate, primary, male (%...</td>\n",
       "      <td>World Development Indicators</td>\n",
       "    </tr>\n",
       "  </tbody>\n",
       "</table>\n",
       "</div>"
      ],
      "text/plain": [
       "                                                    name  \\\n",
       "10344  Adjusted net enrollment rate, primary (% of pr...   \n",
       "10345  Adjusted net enrollment rate, primary, female ...   \n",
       "10346  Adjusted net enrollment rate, primary, male (%...   \n",
       "\n",
       "                             source  \n",
       "10344  World Development Indicators  \n",
       "10345  World Development Indicators  \n",
       "10346  World Development Indicators  "
      ]
     },
     "execution_count": 10,
     "metadata": {},
     "output_type": "execute_result"
    }
   ],
   "source": [
    "result.loc[:,['name','source']]"
   ]
  },
  {
   "cell_type": "code",
   "execution_count": 11,
   "metadata": {},
   "outputs": [
    {
     "data": {
      "text/html": [
       "<div>\n",
       "<style scoped>\n",
       "    .dataframe tbody tr th:only-of-type {\n",
       "        vertical-align: middle;\n",
       "    }\n",
       "\n",
       "    .dataframe tbody tr th {\n",
       "        vertical-align: top;\n",
       "    }\n",
       "\n",
       "    .dataframe thead th {\n",
       "        text-align: right;\n",
       "    }\n",
       "</style>\n",
       "<table border=\"1\" class=\"dataframe\">\n",
       "  <thead>\n",
       "    <tr style=\"text-align: right;\">\n",
       "      <th></th>\n",
       "      <th>name</th>\n",
       "      <th>source</th>\n",
       "    </tr>\n",
       "  </thead>\n",
       "  <tbody>\n",
       "    <tr>\n",
       "      <th>10344</th>\n",
       "      <td>Adjusted net enrollment rate, primary (% of pr...</td>\n",
       "      <td>World Development Indicators</td>\n",
       "    </tr>\n",
       "    <tr>\n",
       "      <th>10345</th>\n",
       "      <td>Adjusted net enrollment rate, primary, female ...</td>\n",
       "      <td>World Development Indicators</td>\n",
       "    </tr>\n",
       "    <tr>\n",
       "      <th>10346</th>\n",
       "      <td>Adjusted net enrollment rate, primary, male (%...</td>\n",
       "      <td>World Development Indicators</td>\n",
       "    </tr>\n",
       "  </tbody>\n",
       "</table>\n",
       "</div>"
      ],
      "text/plain": [
       "                                                    name  \\\n",
       "10344  Adjusted net enrollment rate, primary (% of pr...   \n",
       "10345  Adjusted net enrollment rate, primary, female ...   \n",
       "10346  Adjusted net enrollment rate, primary, male (%...   \n",
       "\n",
       "                             source  \n",
       "10344  World Development Indicators  \n",
       "10345  World Development Indicators  \n",
       "10346  World Development Indicators  "
      ]
     },
     "execution_count": 11,
     "metadata": {},
     "output_type": "execute_result"
    }
   ],
   "source": [
    "result.loc[:,['name','source']]"
   ]
  },
  {
   "cell_type": "code",
   "execution_count": 13,
   "metadata": {},
   "outputs": [
    {
     "data": {
      "text/html": [
       "<div>\n",
       "<style scoped>\n",
       "    .dataframe tbody tr th:only-of-type {\n",
       "        vertical-align: middle;\n",
       "    }\n",
       "\n",
       "    .dataframe tbody tr th {\n",
       "        vertical-align: top;\n",
       "    }\n",
       "\n",
       "    .dataframe thead th {\n",
       "        text-align: right;\n",
       "    }\n",
       "</style>\n",
       "<table border=\"1\" class=\"dataframe\">\n",
       "  <thead>\n",
       "    <tr style=\"text-align: right;\">\n",
       "      <th></th>\n",
       "      <th>unit</th>\n",
       "      <th>source</th>\n",
       "      <th>sourceOrganization</th>\n",
       "    </tr>\n",
       "  </thead>\n",
       "  <tbody>\n",
       "    <tr>\n",
       "      <th>10344</th>\n",
       "      <td></td>\n",
       "      <td>World Development Indicators</td>\n",
       "      <td>b'UNESCO Institute for Statistics (http://uis....</td>\n",
       "    </tr>\n",
       "    <tr>\n",
       "      <th>10345</th>\n",
       "      <td></td>\n",
       "      <td>World Development Indicators</td>\n",
       "      <td>b'UNESCO Institute for Statistics (http://uis....</td>\n",
       "    </tr>\n",
       "    <tr>\n",
       "      <th>10346</th>\n",
       "      <td></td>\n",
       "      <td>World Development Indicators</td>\n",
       "      <td>b'UNESCO Institute for Statistics (http://uis....</td>\n",
       "    </tr>\n",
       "  </tbody>\n",
       "</table>\n",
       "</div>"
      ],
      "text/plain": [
       "      unit                        source  \\\n",
       "10344       World Development Indicators   \n",
       "10345       World Development Indicators   \n",
       "10346       World Development Indicators   \n",
       "\n",
       "                                      sourceOrganization  \n",
       "10344  b'UNESCO Institute for Statistics (http://uis....  \n",
       "10345  b'UNESCO Institute for Statistics (http://uis....  \n",
       "10346  b'UNESCO Institute for Statistics (http://uis....  "
      ]
     },
     "execution_count": 13,
     "metadata": {},
     "output_type": "execute_result"
    }
   ],
   "source": [
    "result.iloc[:,[2,3,5]]\n"
   ]
  },
  {
   "cell_type": "code",
   "execution_count": null,
   "metadata": {},
   "outputs": [],
   "source": []
  },
  {
   "cell_type": "code",
   "execution_count": 14,
   "metadata": {},
   "outputs": [
    {
     "data": {
      "text/html": [
       "<div>\n",
       "<style scoped>\n",
       "    .dataframe tbody tr th:only-of-type {\n",
       "        vertical-align: middle;\n",
       "    }\n",
       "\n",
       "    .dataframe tbody tr th {\n",
       "        vertical-align: top;\n",
       "    }\n",
       "\n",
       "    .dataframe thead th {\n",
       "        text-align: right;\n",
       "    }\n",
       "</style>\n",
       "<table border=\"1\" class=\"dataframe\">\n",
       "  <thead>\n",
       "    <tr style=\"text-align: right;\">\n",
       "      <th></th>\n",
       "      <th>name</th>\n",
       "      <th>source</th>\n",
       "    </tr>\n",
       "  </thead>\n",
       "  <tbody>\n",
       "    <tr>\n",
       "      <th>10344</th>\n",
       "      <td>Adjusted net enrollment rate, primary (% of pr...</td>\n",
       "      <td>World Development Indicators</td>\n",
       "    </tr>\n",
       "  </tbody>\n",
       "</table>\n",
       "</div>"
      ],
      "text/plain": [
       "                                                    name  \\\n",
       "10344  Adjusted net enrollment rate, primary (% of pr...   \n",
       "\n",
       "                             source  \n",
       "10344  World Development Indicators  "
      ]
     },
     "execution_count": 14,
     "metadata": {},
     "output_type": "execute_result"
    }
   ],
   "source": [
    "result.loc[[10344],['name','source']]\n"
   ]
  },
  {
   "cell_type": "code",
   "execution_count": 16,
   "metadata": {},
   "outputs": [
    {
     "data": {
      "text/html": [
       "<div>\n",
       "<style scoped>\n",
       "    .dataframe tbody tr th:only-of-type {\n",
       "        vertical-align: middle;\n",
       "    }\n",
       "\n",
       "    .dataframe tbody tr th {\n",
       "        vertical-align: top;\n",
       "    }\n",
       "\n",
       "    .dataframe thead th {\n",
       "        text-align: right;\n",
       "    }\n",
       "</style>\n",
       "<table border=\"1\" class=\"dataframe\">\n",
       "  <thead>\n",
       "    <tr style=\"text-align: right;\">\n",
       "      <th></th>\n",
       "      <th>name</th>\n",
       "      <th>source</th>\n",
       "    </tr>\n",
       "  </thead>\n",
       "  <tbody>\n",
       "    <tr>\n",
       "      <th>10344</th>\n",
       "      <td>Adjusted net enrollment rate, primary (% of pr...</td>\n",
       "      <td>World Development Indicators</td>\n",
       "    </tr>\n",
       "    <tr>\n",
       "      <th>10346</th>\n",
       "      <td>Adjusted net enrollment rate, primary, male (%...</td>\n",
       "      <td>World Development Indicators</td>\n",
       "    </tr>\n",
       "  </tbody>\n",
       "</table>\n",
       "</div>"
      ],
      "text/plain": [
       "                                                    name  \\\n",
       "10344  Adjusted net enrollment rate, primary (% of pr...   \n",
       "10346  Adjusted net enrollment rate, primary, male (%...   \n",
       "\n",
       "                             source  \n",
       "10344  World Development Indicators  \n",
       "10346  World Development Indicators  "
      ]
     },
     "execution_count": 16,
     "metadata": {},
     "output_type": "execute_result"
    }
   ],
   "source": [
    "result.loc[[10344,10346],['name','source']]"
   ]
  },
  {
   "cell_type": "code",
   "execution_count": null,
   "metadata": {},
   "outputs": [],
   "source": []
  },
  {
   "cell_type": "code",
   "execution_count": null,
   "metadata": {},
   "outputs": [],
   "source": []
  }
 ],
 "metadata": {
  "kernelspec": {
   "display_name": "Python 3",
   "language": "python",
   "name": "python3"
  },
  "language_info": {
   "codemirror_mode": {
    "name": "ipython",
    "version": 3
   },
   "file_extension": ".py",
   "mimetype": "text/x-python",
   "name": "python",
   "nbconvert_exporter": "python",
   "pygments_lexer": "ipython3",
   "version": "3.8.6"
  }
 },
 "nbformat": 4,
 "nbformat_minor": 4
}
