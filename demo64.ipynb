{
 "cells": [
  {
   "cell_type": "code",
   "execution_count": 1,
   "metadata": {},
   "outputs": [
    {
     "data": {
      "text/html": [
       "<div>\n",
       "<style scoped>\n",
       "    .dataframe tbody tr th:only-of-type {\n",
       "        vertical-align: middle;\n",
       "    }\n",
       "\n",
       "    .dataframe tbody tr th {\n",
       "        vertical-align: top;\n",
       "    }\n",
       "\n",
       "    .dataframe thead th {\n",
       "        text-align: right;\n",
       "    }\n",
       "</style>\n",
       "<table border=\"1\" class=\"dataframe\">\n",
       "  <thead>\n",
       "    <tr style=\"text-align: right;\">\n",
       "      <th></th>\n",
       "      <th>0</th>\n",
       "      <th>1</th>\n",
       "      <th>2</th>\n",
       "      <th>3</th>\n",
       "      <th>4</th>\n",
       "      <th>5</th>\n",
       "      <th>6</th>\n",
       "    </tr>\n",
       "  </thead>\n",
       "  <tbody>\n",
       "    <tr>\n",
       "      <th>0</th>\n",
       "      <td>-0.524676</td>\n",
       "      <td>2.146053</td>\n",
       "      <td>0.520298</td>\n",
       "      <td>0.553161</td>\n",
       "      <td>0.912173</td>\n",
       "      <td>-0.104242</td>\n",
       "      <td>0.728720</td>\n",
       "    </tr>\n",
       "    <tr>\n",
       "      <th>2</th>\n",
       "      <td>-4.087396</td>\n",
       "      <td>-2.968313</td>\n",
       "      <td>-0.442070</td>\n",
       "      <td>0.095924</td>\n",
       "      <td>0.855202</td>\n",
       "      <td>-0.865368</td>\n",
       "      <td>0.947603</td>\n",
       "    </tr>\n",
       "    <tr>\n",
       "      <th>4</th>\n",
       "      <td>-0.780179</td>\n",
       "      <td>0.352673</td>\n",
       "      <td>-1.900554</td>\n",
       "      <td>-0.509736</td>\n",
       "      <td>1.038419</td>\n",
       "      <td>-1.008598</td>\n",
       "      <td>0.138226</td>\n",
       "    </tr>\n",
       "    <tr>\n",
       "      <th>6</th>\n",
       "      <td>-1.514605</td>\n",
       "      <td>0.614441</td>\n",
       "      <td>0.797281</td>\n",
       "      <td>-0.046487</td>\n",
       "      <td>1.255911</td>\n",
       "      <td>-0.703685</td>\n",
       "      <td>0.677496</td>\n",
       "    </tr>\n",
       "    <tr>\n",
       "      <th>8</th>\n",
       "      <td>-0.177805</td>\n",
       "      <td>-0.848025</td>\n",
       "      <td>0.402498</td>\n",
       "      <td>-0.122294</td>\n",
       "      <td>1.092214</td>\n",
       "      <td>0.226652</td>\n",
       "      <td>-1.123250</td>\n",
       "    </tr>\n",
       "    <tr>\n",
       "      <th>10</th>\n",
       "      <td>0.615649</td>\n",
       "      <td>-0.486320</td>\n",
       "      <td>0.935619</td>\n",
       "      <td>0.649644</td>\n",
       "      <td>0.132461</td>\n",
       "      <td>1.423458</td>\n",
       "      <td>1.315838</td>\n",
       "    </tr>\n",
       "  </tbody>\n",
       "</table>\n",
       "</div>"
      ],
      "text/plain": [
       "           0         1         2         3         4         5         6\n",
       "0  -0.524676  2.146053  0.520298  0.553161  0.912173 -0.104242  0.728720\n",
       "2  -4.087396 -2.968313 -0.442070  0.095924  0.855202 -0.865368  0.947603\n",
       "4  -0.780179  0.352673 -1.900554 -0.509736  1.038419 -1.008598  0.138226\n",
       "6  -1.514605  0.614441  0.797281 -0.046487  1.255911 -0.703685  0.677496\n",
       "8  -0.177805 -0.848025  0.402498 -0.122294  1.092214  0.226652 -1.123250\n",
       "10  0.615649 -0.486320  0.935619  0.649644  0.132461  1.423458  1.315838"
      ]
     },
     "execution_count": 1,
     "metadata": {},
     "output_type": "execute_result"
    }
   ],
   "source": [
    "import pandas as pd\n",
    "import numpy as np\n",
    "\n",
    "pd1 = pd.DataFrame(np.random.randn(6, 7),\n",
    "                   index=list(range(0, 12, 2)),\n",
    "                   columns=list(range(0, 7, 1)))\n",
    "pd1"
   ]
  },
  {
   "cell_type": "code",
   "execution_count": 2,
   "metadata": {},
   "outputs": [
    {
     "data": {
      "text/plain": [
       "0   -6.469013\n",
       "1   -1.189491\n",
       "2    0.313072\n",
       "3    0.620213\n",
       "4    5.286379\n",
       "5   -1.031783\n",
       "6    2.684634\n",
       "dtype: float64"
      ]
     },
     "execution_count": 2,
     "metadata": {},
     "output_type": "execute_result"
    }
   ],
   "source": [
    "pd1.sum()"
   ]
  },
  {
   "cell_type": "code",
   "execution_count": 5,
   "metadata": {},
   "outputs": [
    {
     "data": {
      "text/plain": [
       "0     4.231486\n",
       "2    -6.464417\n",
       "4    -2.669749\n",
       "6     1.080351\n",
       "8    -0.550009\n",
       "10    4.586350\n",
       "dtype: float64"
      ]
     },
     "execution_count": 5,
     "metadata": {},
     "output_type": "execute_result"
    }
   ],
   "source": [
    "pd1.sum(axis=1)"
   ]
  },
  {
   "cell_type": "code",
   "execution_count": 6,
   "metadata": {},
   "outputs": [
    {
     "data": {
      "text/html": [
       "<div>\n",
       "<style scoped>\n",
       "    .dataframe tbody tr th:only-of-type {\n",
       "        vertical-align: middle;\n",
       "    }\n",
       "\n",
       "    .dataframe tbody tr th {\n",
       "        vertical-align: top;\n",
       "    }\n",
       "\n",
       "    .dataframe thead th {\n",
       "        text-align: right;\n",
       "    }\n",
       "</style>\n",
       "<table border=\"1\" class=\"dataframe\">\n",
       "  <thead>\n",
       "    <tr style=\"text-align: right;\">\n",
       "      <th></th>\n",
       "      <th>0</th>\n",
       "      <th>1</th>\n",
       "      <th>2</th>\n",
       "      <th>3</th>\n",
       "      <th>4</th>\n",
       "      <th>5</th>\n",
       "      <th>6</th>\n",
       "    </tr>\n",
       "  </thead>\n",
       "  <tbody>\n",
       "    <tr>\n",
       "      <th>0</th>\n",
       "      <td>-0.524676</td>\n",
       "      <td>2.146053</td>\n",
       "      <td>0.520298</td>\n",
       "      <td>0.553161</td>\n",
       "      <td>0.912173</td>\n",
       "      <td>-0.104242</td>\n",
       "      <td>0.728720</td>\n",
       "    </tr>\n",
       "    <tr>\n",
       "      <th>2</th>\n",
       "      <td>-4.087396</td>\n",
       "      <td>-2.968313</td>\n",
       "      <td>-0.442070</td>\n",
       "      <td>0.095924</td>\n",
       "      <td>0.855202</td>\n",
       "      <td>-0.865368</td>\n",
       "      <td>0.947603</td>\n",
       "    </tr>\n",
       "    <tr>\n",
       "      <th>4</th>\n",
       "      <td>-0.780179</td>\n",
       "      <td>0.352673</td>\n",
       "      <td>-1.900554</td>\n",
       "      <td>NaN</td>\n",
       "      <td>1.038419</td>\n",
       "      <td>-1.008598</td>\n",
       "      <td>0.138226</td>\n",
       "    </tr>\n",
       "    <tr>\n",
       "      <th>6</th>\n",
       "      <td>-1.514605</td>\n",
       "      <td>0.614441</td>\n",
       "      <td>0.797281</td>\n",
       "      <td>-0.046487</td>\n",
       "      <td>1.255911</td>\n",
       "      <td>-0.703685</td>\n",
       "      <td>0.677496</td>\n",
       "    </tr>\n",
       "    <tr>\n",
       "      <th>8</th>\n",
       "      <td>-0.177805</td>\n",
       "      <td>-0.848025</td>\n",
       "      <td>0.402498</td>\n",
       "      <td>-0.122294</td>\n",
       "      <td>1.092214</td>\n",
       "      <td>0.226652</td>\n",
       "      <td>-1.123250</td>\n",
       "    </tr>\n",
       "    <tr>\n",
       "      <th>10</th>\n",
       "      <td>0.615649</td>\n",
       "      <td>-0.486320</td>\n",
       "      <td>0.935619</td>\n",
       "      <td>0.649644</td>\n",
       "      <td>0.132461</td>\n",
       "      <td>1.423458</td>\n",
       "      <td>1.315838</td>\n",
       "    </tr>\n",
       "  </tbody>\n",
       "</table>\n",
       "</div>"
      ],
      "text/plain": [
       "           0         1         2         3         4         5         6\n",
       "0  -0.524676  2.146053  0.520298  0.553161  0.912173 -0.104242  0.728720\n",
       "2  -4.087396 -2.968313 -0.442070  0.095924  0.855202 -0.865368  0.947603\n",
       "4  -0.780179  0.352673 -1.900554       NaN  1.038419 -1.008598  0.138226\n",
       "6  -1.514605  0.614441  0.797281 -0.046487  1.255911 -0.703685  0.677496\n",
       "8  -0.177805 -0.848025  0.402498 -0.122294  1.092214  0.226652 -1.123250\n",
       "10  0.615649 -0.486320  0.935619  0.649644  0.132461  1.423458  1.315838"
      ]
     },
     "execution_count": 6,
     "metadata": {},
     "output_type": "execute_result"
    }
   ],
   "source": [
    "pd1.iloc[2,3]=np.NaN\n",
    "pd1\n"
   ]
  },
  {
   "cell_type": "code",
   "execution_count": 7,
   "metadata": {},
   "outputs": [
    {
     "data": {
      "text/plain": [
       "0   -6.469013\n",
       "1   -1.189491\n",
       "2    0.313072\n",
       "3    1.129949\n",
       "4    5.286379\n",
       "5   -1.031783\n",
       "6    2.684634\n",
       "dtype: float64"
      ]
     },
     "execution_count": 7,
     "metadata": {},
     "output_type": "execute_result"
    }
   ],
   "source": [
    "pd1.sum()"
   ]
  },
  {
   "cell_type": "code",
   "execution_count": 8,
   "metadata": {},
   "outputs": [
    {
     "data": {
      "text/plain": [
       "0     4.231486\n",
       "2    -6.464417\n",
       "4    -2.160013\n",
       "6     1.080351\n",
       "8    -0.550009\n",
       "10    4.586350\n",
       "dtype: float64"
      ]
     },
     "execution_count": 8,
     "metadata": {},
     "output_type": "execute_result"
    }
   ],
   "source": [
    "pd1.sum(axis='columns')"
   ]
  },
  {
   "cell_type": "code",
   "execution_count": 9,
   "metadata": {},
   "outputs": [
    {
     "data": {
      "text/plain": [
       "0   -6.469013\n",
       "1   -1.189491\n",
       "2    0.313072\n",
       "3         NaN\n",
       "4    5.286379\n",
       "5   -1.031783\n",
       "6    2.684634\n",
       "dtype: float64"
      ]
     },
     "execution_count": 9,
     "metadata": {},
     "output_type": "execute_result"
    }
   ],
   "source": [
    "pd1.sum(skipna=False)"
   ]
  },
  {
   "cell_type": "code",
   "execution_count": 10,
   "metadata": {},
   "outputs": [
    {
     "data": {
      "text/plain": [
       "0     4.231486\n",
       "2    -6.464417\n",
       "4          NaN\n",
       "6     1.080351\n",
       "8    -0.550009\n",
       "10    4.586350\n",
       "dtype: float64"
      ]
     },
     "execution_count": 10,
     "metadata": {},
     "output_type": "execute_result"
    }
   ],
   "source": [
    "pd1.sum(skipna=False,axis='columns')"
   ]
  },
  {
   "cell_type": "code",
   "execution_count": 11,
   "metadata": {},
   "outputs": [
    {
     "data": {
      "text/plain": [
       "(0    10\n",
       " 1     0\n",
       " 2    10\n",
       " 3    10\n",
       " 4     6\n",
       " 5    10\n",
       " 6    10\n",
       " dtype: int64,\n",
       " 0     2\n",
       " 1     2\n",
       " 2     4\n",
       " 3     8\n",
       " 4    10\n",
       " 5     4\n",
       " 6     8\n",
       " dtype: int64)"
      ]
     },
     "execution_count": 11,
     "metadata": {},
     "output_type": "execute_result"
    }
   ],
   "source": [
    "pd1.idxmax(),pd1.idxmin()"
   ]
  },
  {
   "cell_type": "code",
   "execution_count": 12,
   "metadata": {},
   "outputs": [
    {
     "data": {
      "text/html": [
       "<div>\n",
       "<style scoped>\n",
       "    .dataframe tbody tr th:only-of-type {\n",
       "        vertical-align: middle;\n",
       "    }\n",
       "\n",
       "    .dataframe tbody tr th {\n",
       "        vertical-align: top;\n",
       "    }\n",
       "\n",
       "    .dataframe thead th {\n",
       "        text-align: right;\n",
       "    }\n",
       "</style>\n",
       "<table border=\"1\" class=\"dataframe\">\n",
       "  <thead>\n",
       "    <tr style=\"text-align: right;\">\n",
       "      <th></th>\n",
       "      <th>0</th>\n",
       "      <th>1</th>\n",
       "      <th>2</th>\n",
       "      <th>3</th>\n",
       "      <th>4</th>\n",
       "      <th>5</th>\n",
       "      <th>6</th>\n",
       "    </tr>\n",
       "  </thead>\n",
       "  <tbody>\n",
       "    <tr>\n",
       "      <th>0</th>\n",
       "      <td>-0.524676</td>\n",
       "      <td>2.146053</td>\n",
       "      <td>0.520298</td>\n",
       "      <td>0.553161</td>\n",
       "      <td>0.912173</td>\n",
       "      <td>-0.104242</td>\n",
       "      <td>0.728720</td>\n",
       "    </tr>\n",
       "    <tr>\n",
       "      <th>2</th>\n",
       "      <td>-4.612072</td>\n",
       "      <td>-0.822259</td>\n",
       "      <td>0.078228</td>\n",
       "      <td>0.649086</td>\n",
       "      <td>1.767374</td>\n",
       "      <td>-0.969610</td>\n",
       "      <td>1.676323</td>\n",
       "    </tr>\n",
       "    <tr>\n",
       "      <th>4</th>\n",
       "      <td>-5.392251</td>\n",
       "      <td>-0.469587</td>\n",
       "      <td>-1.822326</td>\n",
       "      <td>NaN</td>\n",
       "      <td>2.805794</td>\n",
       "      <td>-1.978209</td>\n",
       "      <td>1.814549</td>\n",
       "    </tr>\n",
       "    <tr>\n",
       "      <th>6</th>\n",
       "      <td>-6.906856</td>\n",
       "      <td>0.144854</td>\n",
       "      <td>-1.025046</td>\n",
       "      <td>0.602599</td>\n",
       "      <td>4.061704</td>\n",
       "      <td>-2.681893</td>\n",
       "      <td>2.492045</td>\n",
       "    </tr>\n",
       "    <tr>\n",
       "      <th>8</th>\n",
       "      <td>-7.084662</td>\n",
       "      <td>-0.703171</td>\n",
       "      <td>-0.622548</td>\n",
       "      <td>0.480305</td>\n",
       "      <td>5.153919</td>\n",
       "      <td>-2.455241</td>\n",
       "      <td>1.368795</td>\n",
       "    </tr>\n",
       "    <tr>\n",
       "      <th>10</th>\n",
       "      <td>-6.469013</td>\n",
       "      <td>-1.189491</td>\n",
       "      <td>0.313072</td>\n",
       "      <td>1.129949</td>\n",
       "      <td>5.286379</td>\n",
       "      <td>-1.031783</td>\n",
       "      <td>2.684634</td>\n",
       "    </tr>\n",
       "  </tbody>\n",
       "</table>\n",
       "</div>"
      ],
      "text/plain": [
       "           0         1         2         3         4         5         6\n",
       "0  -0.524676  2.146053  0.520298  0.553161  0.912173 -0.104242  0.728720\n",
       "2  -4.612072 -0.822259  0.078228  0.649086  1.767374 -0.969610  1.676323\n",
       "4  -5.392251 -0.469587 -1.822326       NaN  2.805794 -1.978209  1.814549\n",
       "6  -6.906856  0.144854 -1.025046  0.602599  4.061704 -2.681893  2.492045\n",
       "8  -7.084662 -0.703171 -0.622548  0.480305  5.153919 -2.455241  1.368795\n",
       "10 -6.469013 -1.189491  0.313072  1.129949  5.286379 -1.031783  2.684634"
      ]
     },
     "execution_count": 12,
     "metadata": {},
     "output_type": "execute_result"
    }
   ],
   "source": [
    "pd1.cumsum()"
   ]
  },
  {
   "cell_type": "code",
   "execution_count": 13,
   "metadata": {},
   "outputs": [
    {
     "data": {
      "text/html": [
       "<div>\n",
       "<style scoped>\n",
       "    .dataframe tbody tr th:only-of-type {\n",
       "        vertical-align: middle;\n",
       "    }\n",
       "\n",
       "    .dataframe tbody tr th {\n",
       "        vertical-align: top;\n",
       "    }\n",
       "\n",
       "    .dataframe thead th {\n",
       "        text-align: right;\n",
       "    }\n",
       "</style>\n",
       "<table border=\"1\" class=\"dataframe\">\n",
       "  <thead>\n",
       "    <tr style=\"text-align: right;\">\n",
       "      <th></th>\n",
       "      <th>0</th>\n",
       "      <th>1</th>\n",
       "      <th>2</th>\n",
       "      <th>3</th>\n",
       "      <th>4</th>\n",
       "      <th>5</th>\n",
       "      <th>6</th>\n",
       "    </tr>\n",
       "  </thead>\n",
       "  <tbody>\n",
       "    <tr>\n",
       "      <th>0</th>\n",
       "      <td>-0.524676</td>\n",
       "      <td>2.146053</td>\n",
       "      <td>0.520298</td>\n",
       "      <td>0.553161</td>\n",
       "      <td>0.912173</td>\n",
       "      <td>-0.104242</td>\n",
       "      <td>0.728720</td>\n",
       "    </tr>\n",
       "    <tr>\n",
       "      <th>2</th>\n",
       "      <td>-0.524676</td>\n",
       "      <td>2.146053</td>\n",
       "      <td>0.520298</td>\n",
       "      <td>0.553161</td>\n",
       "      <td>0.912173</td>\n",
       "      <td>-0.104242</td>\n",
       "      <td>0.947603</td>\n",
       "    </tr>\n",
       "    <tr>\n",
       "      <th>4</th>\n",
       "      <td>-0.524676</td>\n",
       "      <td>2.146053</td>\n",
       "      <td>0.520298</td>\n",
       "      <td>NaN</td>\n",
       "      <td>1.038419</td>\n",
       "      <td>-0.104242</td>\n",
       "      <td>0.947603</td>\n",
       "    </tr>\n",
       "    <tr>\n",
       "      <th>6</th>\n",
       "      <td>-0.524676</td>\n",
       "      <td>2.146053</td>\n",
       "      <td>0.797281</td>\n",
       "      <td>0.553161</td>\n",
       "      <td>1.255911</td>\n",
       "      <td>-0.104242</td>\n",
       "      <td>0.947603</td>\n",
       "    </tr>\n",
       "    <tr>\n",
       "      <th>8</th>\n",
       "      <td>-0.177805</td>\n",
       "      <td>2.146053</td>\n",
       "      <td>0.797281</td>\n",
       "      <td>0.553161</td>\n",
       "      <td>1.255911</td>\n",
       "      <td>0.226652</td>\n",
       "      <td>0.947603</td>\n",
       "    </tr>\n",
       "    <tr>\n",
       "      <th>10</th>\n",
       "      <td>0.615649</td>\n",
       "      <td>2.146053</td>\n",
       "      <td>0.935619</td>\n",
       "      <td>0.649644</td>\n",
       "      <td>1.255911</td>\n",
       "      <td>1.423458</td>\n",
       "      <td>1.315838</td>\n",
       "    </tr>\n",
       "  </tbody>\n",
       "</table>\n",
       "</div>"
      ],
      "text/plain": [
       "           0         1         2         3         4         5         6\n",
       "0  -0.524676  2.146053  0.520298  0.553161  0.912173 -0.104242  0.728720\n",
       "2  -0.524676  2.146053  0.520298  0.553161  0.912173 -0.104242  0.947603\n",
       "4  -0.524676  2.146053  0.520298       NaN  1.038419 -0.104242  0.947603\n",
       "6  -0.524676  2.146053  0.797281  0.553161  1.255911 -0.104242  0.947603\n",
       "8  -0.177805  2.146053  0.797281  0.553161  1.255911  0.226652  0.947603\n",
       "10  0.615649  2.146053  0.935619  0.649644  1.255911  1.423458  1.315838"
      ]
     },
     "execution_count": 13,
     "metadata": {},
     "output_type": "execute_result"
    }
   ],
   "source": [
    "pd1.cummax()"
   ]
  },
  {
   "cell_type": "code",
   "execution_count": 14,
   "metadata": {},
   "outputs": [
    {
     "data": {
      "text/html": [
       "<div>\n",
       "<style scoped>\n",
       "    .dataframe tbody tr th:only-of-type {\n",
       "        vertical-align: middle;\n",
       "    }\n",
       "\n",
       "    .dataframe tbody tr th {\n",
       "        vertical-align: top;\n",
       "    }\n",
       "\n",
       "    .dataframe thead th {\n",
       "        text-align: right;\n",
       "    }\n",
       "</style>\n",
       "<table border=\"1\" class=\"dataframe\">\n",
       "  <thead>\n",
       "    <tr style=\"text-align: right;\">\n",
       "      <th></th>\n",
       "      <th>0</th>\n",
       "      <th>1</th>\n",
       "      <th>2</th>\n",
       "      <th>3</th>\n",
       "      <th>4</th>\n",
       "      <th>5</th>\n",
       "      <th>6</th>\n",
       "    </tr>\n",
       "  </thead>\n",
       "  <tbody>\n",
       "    <tr>\n",
       "      <th>count</th>\n",
       "      <td>6.000000</td>\n",
       "      <td>6.000000</td>\n",
       "      <td>6.000000</td>\n",
       "      <td>5.000000</td>\n",
       "      <td>6.000000</td>\n",
       "      <td>6.000000</td>\n",
       "      <td>6.000000</td>\n",
       "    </tr>\n",
       "    <tr>\n",
       "      <th>mean</th>\n",
       "      <td>-1.078169</td>\n",
       "      <td>-0.198248</td>\n",
       "      <td>0.052179</td>\n",
       "      <td>0.225990</td>\n",
       "      <td>0.881063</td>\n",
       "      <td>-0.171964</td>\n",
       "      <td>0.447439</td>\n",
       "    </tr>\n",
       "    <tr>\n",
       "      <th>std</th>\n",
       "      <td>1.632222</td>\n",
       "      <td>1.711034</td>\n",
       "      <td>1.070976</td>\n",
       "      <td>0.353195</td>\n",
       "      <td>0.392912</td>\n",
       "      <td>0.913493</td>\n",
       "      <td>0.860116</td>\n",
       "    </tr>\n",
       "    <tr>\n",
       "      <th>min</th>\n",
       "      <td>-4.087396</td>\n",
       "      <td>-2.968313</td>\n",
       "      <td>-1.900554</td>\n",
       "      <td>-0.122294</td>\n",
       "      <td>0.132461</td>\n",
       "      <td>-1.008598</td>\n",
       "      <td>-1.123250</td>\n",
       "    </tr>\n",
       "    <tr>\n",
       "      <th>25%</th>\n",
       "      <td>-1.330999</td>\n",
       "      <td>-0.757599</td>\n",
       "      <td>-0.230928</td>\n",
       "      <td>-0.046487</td>\n",
       "      <td>0.869444</td>\n",
       "      <td>-0.824947</td>\n",
       "      <td>0.273044</td>\n",
       "    </tr>\n",
       "    <tr>\n",
       "      <th>50%</th>\n",
       "      <td>-0.652428</td>\n",
       "      <td>-0.066824</td>\n",
       "      <td>0.461398</td>\n",
       "      <td>0.095924</td>\n",
       "      <td>0.975296</td>\n",
       "      <td>-0.403963</td>\n",
       "      <td>0.703108</td>\n",
       "    </tr>\n",
       "    <tr>\n",
       "      <th>75%</th>\n",
       "      <td>-0.264523</td>\n",
       "      <td>0.548999</td>\n",
       "      <td>0.728035</td>\n",
       "      <td>0.553161</td>\n",
       "      <td>1.078766</td>\n",
       "      <td>0.143929</td>\n",
       "      <td>0.892882</td>\n",
       "    </tr>\n",
       "    <tr>\n",
       "      <th>max</th>\n",
       "      <td>0.615649</td>\n",
       "      <td>2.146053</td>\n",
       "      <td>0.935619</td>\n",
       "      <td>0.649644</td>\n",
       "      <td>1.255911</td>\n",
       "      <td>1.423458</td>\n",
       "      <td>1.315838</td>\n",
       "    </tr>\n",
       "  </tbody>\n",
       "</table>\n",
       "</div>"
      ],
      "text/plain": [
       "              0         1         2         3         4         5         6\n",
       "count  6.000000  6.000000  6.000000  5.000000  6.000000  6.000000  6.000000\n",
       "mean  -1.078169 -0.198248  0.052179  0.225990  0.881063 -0.171964  0.447439\n",
       "std    1.632222  1.711034  1.070976  0.353195  0.392912  0.913493  0.860116\n",
       "min   -4.087396 -2.968313 -1.900554 -0.122294  0.132461 -1.008598 -1.123250\n",
       "25%   -1.330999 -0.757599 -0.230928 -0.046487  0.869444 -0.824947  0.273044\n",
       "50%   -0.652428 -0.066824  0.461398  0.095924  0.975296 -0.403963  0.703108\n",
       "75%   -0.264523  0.548999  0.728035  0.553161  1.078766  0.143929  0.892882\n",
       "max    0.615649  2.146053  0.935619  0.649644  1.255911  1.423458  1.315838"
      ]
     },
     "execution_count": 14,
     "metadata": {},
     "output_type": "execute_result"
    }
   ],
   "source": [
    "pd1.describe()"
   ]
  },
  {
   "cell_type": "code",
   "execution_count": null,
   "metadata": {},
   "outputs": [],
   "source": []
  },
  {
   "cell_type": "code",
   "execution_count": null,
   "metadata": {},
   "outputs": [],
   "source": []
  },
  {
   "cell_type": "code",
   "execution_count": null,
   "metadata": {},
   "outputs": [],
   "source": []
  }
 ],
 "metadata": {
  "kernelspec": {
   "display_name": "Python 3",
   "language": "python",
   "name": "python3"
  },
  "language_info": {
   "codemirror_mode": {
    "name": "ipython",
    "version": 3
   },
   "file_extension": ".py",
   "mimetype": "text/x-python",
   "name": "python",
   "nbconvert_exporter": "python",
   "pygments_lexer": "ipython3",
   "version": "3.8.6"
  }
 },
 "nbformat": 4,
 "nbformat_minor": 4
}
